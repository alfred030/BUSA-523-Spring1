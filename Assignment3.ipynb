{
 "cells": [
  {
   "cell_type": "markdown",
   "id": "4ec8bbcd",
   "metadata": {},
   "source": [
    "# Assignment 3"
   ]
  },
  {
   "cell_type": "code",
   "execution_count": 5,
   "id": "4e3d99ad",
   "metadata": {},
   "outputs": [
    {
     "name": "stdout",
     "output_type": "stream",
     "text": [
      "------------\n",
      "Test Run\n",
      "------------\n",
      "Average\n",
      "First Name: Yannick Last Name: Squarements\n",
      "Counry: Rock Bottom\n",
      "Overall Grade: 3 Credits Completed: 15\n",
      "Major: Culinary Arts\n",
      "------------\n",
      "Good\n",
      "First Name: Georges Last Name: Tentacles\n",
      "Counry: Rock Bottom\n",
      "Overall Grade: 4 Credits Completed: 25\n",
      "Major: Accountancy\n",
      "------------\n",
      "Fair\n",
      "First Name: Patrick Last Name: James\n",
      "Counry: Rock Bottom\n",
      "Overall Grade: 1.5 Credits Completed: 8\n",
      "Major: History\n"
     ]
    }
   ],
   "source": [
    "# Q1\n",
    "\n",
    "class StudentRecord:\n",
    "    \n",
    "    def __init__(self,fName,lName,country,overallGrade,creditsCompleted,major):\n",
    "        self.fName = fName\n",
    "        self.lName = lName\n",
    "        self.country = country\n",
    "        self.overallGrade = overallGrade\n",
    "        self.creditsCompleted = creditsCompleted\n",
    "        self.major = major\n",
    "\n",
    "    def evaluateProgress(self):\n",
    "        if (self.overallGrade > 3) and (self.creditsCompleted > 20):\n",
    "            print('Good')\n",
    "        elif (self.overallGrade > 2.5) and ((self.creditsCompleted >= 10) and (self.creditsCompleted <= 20)):\n",
    "            print('Average')\n",
    "        else:\n",
    "            print(\"Fair\") # You can change this if you want to\n",
    "\n",
    "    def displayAttributes(self):\n",
    "        print(f'First Name: {self.fName} Last Name: {self.lName}')\n",
    "        print(f'Counry: {self.country}')\n",
    "        print(f'Overall Grade: {self.overallGrade} Credits Completed: {self.creditsCompleted}')\n",
    "        print(f'Major: {self.major}')\n",
    "\n",
    "print('------------')\n",
    "print('Test Run')\n",
    "print('------------')\n",
    "s1 = StudentRecord(fName='Yannick',lName='Squarements',country=\"Rock Bottom\",overallGrade=3,creditsCompleted=15,major='Culinary Arts')\n",
    "s1.evaluateProgress()\n",
    "s1.displayAttributes()\n",
    "print('------------')\n",
    "s2 = StudentRecord(fName='Georges',lName='Tentacles',country=\"Rock Bottom\",overallGrade=4,creditsCompleted=25,major='Accountancy')\n",
    "s2.evaluateProgress()\n",
    "s2.displayAttributes()\n",
    "print('------------')\n",
    "s3 = StudentRecord(fName='Patrick',lName='James',country=\"Rock Bottom\",overallGrade=1.5,creditsCompleted=8,major='History')\n",
    "s3.evaluateProgress()\n",
    "s3.displayAttributes()"
   ]
  },
  {
   "cell_type": "code",
   "execution_count": 3,
   "id": "dbd193de",
   "metadata": {},
   "outputs": [
    {
     "name": "stdout",
     "output_type": "stream",
     "text": [
      "Please enter the size of the list : 9\n",
      "Enter the 1th Element : -6\n",
      "Enter the 2th Element : 5\n",
      "Enter the 3th Element : -3\n",
      "Enter the 4th Element : -2\n",
      "Enter the 5th Element : 1\n",
      "Enter the 6th Element : 0\n",
      "Enter the 7th Element : -8\n",
      "Enter the 8th Element : 9\n",
      "Enter the 9th Element : 3\n",
      "[-6, -3, -2, -8] , [5, 1, 9, 3]\n"
     ]
    }
   ],
   "source": [
    "# Q2\n",
    "\n",
    "List = []\n",
    "PositiveList = []\n",
    "NegativeList = []\n",
    "\n",
    "size = int(input(\"Please enter the size of the list : \"))\n",
    "for i in range(1, size + 1):\n",
    "    value = int(input(\"Enter the %dth Element : \" %i))\n",
    "    List.append(value)\n",
    "\n",
    "for j in range(size):\n",
    "    if(List[j] >0):\n",
    "        PositiveList.append(List[j])\n",
    "    elif List[j] <0:\n",
    "        NegativeList.append(List[j])\n",
    "\n",
    "print(NegativeList,\",\",PositiveList)\n"
   ]
  },
  {
   "cell_type": "code",
   "execution_count": 4,
   "id": "f464749b",
   "metadata": {},
   "outputs": [
    {
     "name": "stdout",
     "output_type": "stream",
     "text": [
      "Enter final score: 18\n",
      "[(8, 11), (9, 10), (9, 11), (10, 10), (10, 11)]\n"
     ]
    }
   ],
   "source": [
    "# Q3 taking input from user\n",
    "\n",
    "\n",
    "n = int(input(\"Enter final score: \"))\n",
    "\n",
    "# initializing the cards without face cards\n",
    "\n",
    "cards = [2,3,4,5,6,7,8,9,10,11]\n",
    "output = []\n",
    "for c1 in cards:\n",
    "    for c2 in cards:\n",
    "        if (c1,c2) == (11,11):\n",
    "            continue\n",
    "        if c1+c2 > n:\n",
    "            if (c2,c1) not in output:\n",
    "                output.append((c1,c2))\n",
    "print(output)"
   ]
  },
  {
   "cell_type": "code",
   "execution_count": 6,
   "id": "d2d49fb0",
   "metadata": {},
   "outputs": [
    {
     "name": "stdout",
     "output_type": "stream",
     "text": [
      "Positives: [5, 1, 9, 3]\n",
      "Negatives: [-6, -3, -2, -8]\n"
     ]
    }
   ],
   "source": [
    "# Q4\n",
    "\n",
    "# Example 1\n",
    "\n",
    "\n",
    "def NegPos(numbersList):\n",
    "    positive = [] # 1 step O(1)\n",
    "    negative = [] # 1 step O(1)\n",
    "\n",
    "    # We must multiply it by the length of list or simply O(n)\n",
    "    # The steps will depend on the length of list \n",
    "    \n",
    "    for num in numbersList:\n",
    "        # \n",
    "        if num > 0: # 1 step O(1)\n",
    "            positive.append(num) # 1 step O(1) \n",
    "        elif num < 0: # 1 step O(1)\n",
    "            negative.append(num) # 1 step O(1)\n",
    "\n",
    "    print('Positives:',positive) # 1 step O(1)\n",
    "    print('Negatives:',negative) # 1 step O(1)\n",
    "\n",
    "\n",
    "numbersList = [-6,5,-3,-2,1,0,-8,9,3] # 1 step O(1)\n",
    "NegPos(numbersList)\n",
    "\n",
    "# O(1) + O(1) + O(1) + O(n) + O(1) + O(1) \n",
    "# O(5) + O(n)\n",
    "# Final answer: O(n)"
   ]
  },
  {
   "cell_type": "code",
   "execution_count": 7,
   "id": "7549dbda",
   "metadata": {},
   "outputs": [
    {
     "name": "stdout",
     "output_type": "stream",
     "text": [
      "Enter score: 18\n",
      "[(8, 11), (9, 10), (9, 11), (10, 10), (10, 11)]\n"
     ]
    }
   ],
   "source": [
    "# Q4\n",
    "\n",
    "# Example2\n",
    "\n",
    "def possibleWins(finalScore):\n",
    "\n",
    "    possibilities = [] # 1 step O(1)\n",
    "\n",
    "    # a for loop within a for loop is O(n^2)\n",
    "    for i in range(1,12): \n",
    "        for j in range(1,12):\n",
    "            # the lines of code below are just all O(1)\n",
    "            if ((i + j) > finalScore):\n",
    "                if ((i,j) not in possibilities) and ((j,i) not in possibilities) and ((j,i) != (11,11)) and ((i,j) != (11,11)):\n",
    "                    possibilities.append((i,j))\n",
    "\n",
    "    print(possibilities) # 1 step O(1)\n",
    "\n",
    "finalScore = int(input(\"Enter score: \")) # 1 step O(1)\n",
    "possibleWins(finalScore)\n",
    "\n",
    "\n",
    "# O(1) + O(1) + O(n^2) # O(1)\n",
    "# O(3) + O(n^2)\n",
    "# Final answer: O(n^2)"
   ]
  },
  {
   "cell_type": "code",
   "execution_count": null,
   "id": "100c9d89",
   "metadata": {},
   "outputs": [],
   "source": []
  }
 ],
 "metadata": {
  "kernelspec": {
   "display_name": "Python 3 (ipykernel)",
   "language": "python",
   "name": "python3"
  },
  "language_info": {
   "codemirror_mode": {
    "name": "ipython",
    "version": 3
   },
   "file_extension": ".py",
   "mimetype": "text/x-python",
   "name": "python",
   "nbconvert_exporter": "python",
   "pygments_lexer": "ipython3",
   "version": "3.9.7"
  }
 },
 "nbformat": 4,
 "nbformat_minor": 5
}
