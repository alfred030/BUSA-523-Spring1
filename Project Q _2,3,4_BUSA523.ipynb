{
 "cells": [
  {
   "cell_type": "markdown",
   "id": "8e40d694",
   "metadata": {},
   "source": [
    "# Project"
   ]
  },
  {
   "cell_type": "code",
   "execution_count": 1,
   "id": "6e1a6c8c",
   "metadata": {},
   "outputs": [],
   "source": [
    "# Question2"
   ]
  },
  {
   "cell_type": "code",
   "execution_count": 2,
   "id": "0750173b",
   "metadata": {},
   "outputs": [],
   "source": [
    "# Import libraries\n",
    "\n",
    "import pandas as pd\n",
    "import matplotlib.pyplot as plt\n",
    "\n",
    "# Scikit learn - machine learning algorithms and methods\n",
    "\n",
    "from sklearn.model_selection import train_test_split, KFold, GridSearchCV\n",
    "from sklearn.preprocessing import StandardScaler\n",
    "from sklearn.preprocessing import MinMaxScaler\n",
    "from sklearn.metrics import roc_auc_score, plot_roc_curve\n",
    "from sklearn.linear_model import LogisticRegression\n",
    "from sklearn.ensemble import RandomForestClassifier\n",
    "from sklearn.svm import SVC\n",
    "from sklearn.neural_network import MLPClassifier\n",
    "from sklearn.metrics import classification_report,confusion_matrix, ConfusionMatrixDisplay"
   ]
  },
  {
   "cell_type": "code",
   "execution_count": null,
   "id": "49687537",
   "metadata": {},
   "outputs": [],
   "source": [
    "names = ['Age', 'Year', 'Auxillary Nodes', 'Survival']\n",
    "df = pd.read_csv(\"cancer.csv\", names=names)"
   ]
  },
  {
   "cell_type": "code",
   "execution_count": 28,
   "id": "cc530a89",
   "metadata": {},
   "outputs": [
    {
     "name": "stdout",
     "output_type": "stream",
     "text": [
      "(306, 4)\n"
     ]
    },
    {
     "data": {
      "text/html": [
       "<div>\n",
       "<style scoped>\n",
       "    .dataframe tbody tr th:only-of-type {\n",
       "        vertical-align: middle;\n",
       "    }\n",
       "\n",
       "    .dataframe tbody tr th {\n",
       "        vertical-align: top;\n",
       "    }\n",
       "\n",
       "    .dataframe thead th {\n",
       "        text-align: right;\n",
       "    }\n",
       "</style>\n",
       "<table border=\"1\" class=\"dataframe\">\n",
       "  <thead>\n",
       "    <tr style=\"text-align: right;\">\n",
       "      <th></th>\n",
       "      <th>0</th>\n",
       "      <th>1</th>\n",
       "      <th>2</th>\n",
       "      <th>3</th>\n",
       "    </tr>\n",
       "  </thead>\n",
       "  <tbody>\n",
       "    <tr>\n",
       "      <th>0</th>\n",
       "      <td>30</td>\n",
       "      <td>64</td>\n",
       "      <td>1</td>\n",
       "      <td>1</td>\n",
       "    </tr>\n",
       "    <tr>\n",
       "      <th>1</th>\n",
       "      <td>30</td>\n",
       "      <td>62</td>\n",
       "      <td>3</td>\n",
       "      <td>1</td>\n",
       "    </tr>\n",
       "    <tr>\n",
       "      <th>2</th>\n",
       "      <td>30</td>\n",
       "      <td>65</td>\n",
       "      <td>0</td>\n",
       "      <td>1</td>\n",
       "    </tr>\n",
       "    <tr>\n",
       "      <th>3</th>\n",
       "      <td>31</td>\n",
       "      <td>59</td>\n",
       "      <td>2</td>\n",
       "      <td>1</td>\n",
       "    </tr>\n",
       "    <tr>\n",
       "      <th>4</th>\n",
       "      <td>31</td>\n",
       "      <td>65</td>\n",
       "      <td>4</td>\n",
       "      <td>1</td>\n",
       "    </tr>\n",
       "  </tbody>\n",
       "</table>\n",
       "</div>"
      ],
      "text/plain": [
       "    0   1  2  3\n",
       "0  30  64  1  1\n",
       "1  30  62  3  1\n",
       "2  30  65  0  1\n",
       "3  31  59  2  1\n",
       "4  31  65  4  1"
      ]
     },
     "execution_count": 28,
     "metadata": {},
     "output_type": "execute_result"
    }
   ],
   "source": [
    "print(df.shape)\n",
    "\n",
    "df.head()"
   ]
  },
  {
   "cell_type": "code",
   "execution_count": 29,
   "id": "91169cd2",
   "metadata": {},
   "outputs": [
    {
     "name": "stdout",
     "output_type": "stream",
     "text": [
      "<class 'pandas.core.frame.DataFrame'>\n",
      "RangeIndex: 306 entries, 0 to 305\n",
      "Data columns (total 4 columns):\n",
      " #   Column  Non-Null Count  Dtype\n",
      "---  ------  --------------  -----\n",
      " 0   0       306 non-null    int64\n",
      " 1   1       306 non-null    int64\n",
      " 2   2       306 non-null    int64\n",
      " 3   3       306 non-null    int64\n",
      "dtypes: int64(4)\n",
      "memory usage: 9.7 KB\n"
     ]
    }
   ],
   "source": [
    "df.info()"
   ]
  },
  {
   "cell_type": "code",
   "execution_count": 30,
   "id": "8c5eb147",
   "metadata": {},
   "outputs": [
    {
     "data": {
      "text/html": [
       "<div>\n",
       "<style scoped>\n",
       "    .dataframe tbody tr th:only-of-type {\n",
       "        vertical-align: middle;\n",
       "    }\n",
       "\n",
       "    .dataframe tbody tr th {\n",
       "        vertical-align: top;\n",
       "    }\n",
       "\n",
       "    .dataframe thead th {\n",
       "        text-align: right;\n",
       "    }\n",
       "</style>\n",
       "<table border=\"1\" class=\"dataframe\">\n",
       "  <thead>\n",
       "    <tr style=\"text-align: right;\">\n",
       "      <th></th>\n",
       "      <th>0</th>\n",
       "      <th>1</th>\n",
       "      <th>2</th>\n",
       "      <th>3</th>\n",
       "    </tr>\n",
       "  </thead>\n",
       "  <tbody>\n",
       "    <tr>\n",
       "      <th>count</th>\n",
       "      <td>306.000000</td>\n",
       "      <td>306.000000</td>\n",
       "      <td>306.000000</td>\n",
       "      <td>306.000000</td>\n",
       "    </tr>\n",
       "    <tr>\n",
       "      <th>mean</th>\n",
       "      <td>52.457516</td>\n",
       "      <td>62.852941</td>\n",
       "      <td>4.026144</td>\n",
       "      <td>1.264706</td>\n",
       "    </tr>\n",
       "    <tr>\n",
       "      <th>std</th>\n",
       "      <td>10.803452</td>\n",
       "      <td>3.249405</td>\n",
       "      <td>7.189654</td>\n",
       "      <td>0.441899</td>\n",
       "    </tr>\n",
       "    <tr>\n",
       "      <th>min</th>\n",
       "      <td>30.000000</td>\n",
       "      <td>58.000000</td>\n",
       "      <td>0.000000</td>\n",
       "      <td>1.000000</td>\n",
       "    </tr>\n",
       "    <tr>\n",
       "      <th>25%</th>\n",
       "      <td>44.000000</td>\n",
       "      <td>60.000000</td>\n",
       "      <td>0.000000</td>\n",
       "      <td>1.000000</td>\n",
       "    </tr>\n",
       "    <tr>\n",
       "      <th>50%</th>\n",
       "      <td>52.000000</td>\n",
       "      <td>63.000000</td>\n",
       "      <td>1.000000</td>\n",
       "      <td>1.000000</td>\n",
       "    </tr>\n",
       "    <tr>\n",
       "      <th>75%</th>\n",
       "      <td>60.750000</td>\n",
       "      <td>65.750000</td>\n",
       "      <td>4.000000</td>\n",
       "      <td>2.000000</td>\n",
       "    </tr>\n",
       "    <tr>\n",
       "      <th>max</th>\n",
       "      <td>83.000000</td>\n",
       "      <td>69.000000</td>\n",
       "      <td>52.000000</td>\n",
       "      <td>2.000000</td>\n",
       "    </tr>\n",
       "  </tbody>\n",
       "</table>\n",
       "</div>"
      ],
      "text/plain": [
       "                0           1           2           3\n",
       "count  306.000000  306.000000  306.000000  306.000000\n",
       "mean    52.457516   62.852941    4.026144    1.264706\n",
       "std     10.803452    3.249405    7.189654    0.441899\n",
       "min     30.000000   58.000000    0.000000    1.000000\n",
       "25%     44.000000   60.000000    0.000000    1.000000\n",
       "50%     52.000000   63.000000    1.000000    1.000000\n",
       "75%     60.750000   65.750000    4.000000    2.000000\n",
       "max     83.000000   69.000000   52.000000    2.000000"
      ]
     },
     "execution_count": 30,
     "metadata": {},
     "output_type": "execute_result"
    }
   ],
   "source": [
    "df.describe()"
   ]
  },
  {
   "cell_type": "code",
   "execution_count": 55,
   "id": "02d3cd19",
   "metadata": {},
   "outputs": [
    {
     "name": "stdout",
     "output_type": "stream",
     "text": [
      "Logistic Regression accuracy: 0.7450537634408603\n",
      "Random Forest accuracy: 0.735268817204301\n",
      "Support Vector Machine accuracy: 0.738494623655914\n",
      "Neural Network accuracy: 0.735268817204301\n",
      "\n",
      "Best model is Logistic Regression\n",
      "With accuracy 0.7450537634408603\n",
      "Parameters: {'C': 0.5}\n"
     ]
    }
   ],
   "source": [
    "# read data\n",
    "\n",
    "df = pd.read_csv(\"cancer.csv\", header=None)\n",
    "X = df[[0, 1, 2]]\n",
    "y = df[3]\n",
    "\n",
    "# models\n",
    "logit = GridSearchCV(LogisticRegression(random_state=0), \n",
    "                    dict(C=[0.5,1,1.5,2]), \n",
    "                    cv=10).fit(X,y)\n",
    "\n",
    "forest = GridSearchCV(RandomForestClassifier(random_state=0, max_depth = 2), \n",
    "                    dict(criterion=['gini', 'entropy']), \n",
    "                    cv=10).fit(X,y)\n",
    "\n",
    "svc = GridSearchCV(svm.SVC(random_state=0), \n",
    "                    dict(C=[0.5,1,1.5,2],\n",
    "                         kernel=['linear','poly','rbf']), \n",
    "                    cv=10).fit(X,y)\n",
    "\n",
    "nn = GridSearchCV(MLPClassifier(solver='lbfgs', alpha=1e-5,\n",
    "                     random_state=0), \n",
    "                    dict(hidden_layer_sizes=[(5, 2), (10,5,2), (20,10,5,2)]), \n",
    "                    cv=10).fit(X,y)\n",
    "\n",
    "# results\n",
    "model_names = [\"Logistic Regression\", 'Random Forest', \n",
    "               'Support Vector Machine', 'Neural Network']\n",
    "models = [logit, forest, svc, nn]\n",
    "model_scores = [logit.best_score_, forest.best_score_, \n",
    "                svc.best_score_,nn.best_score_]\n",
    "\n",
    "for i in range(len(models)):\n",
    "    print(model_names[i], \"accuracy:\", model_scores[i])\n",
    "\n",
    "print()\n",
    "best_model_i = model_scores.index(max(model_scores))\n",
    "print(\"Best model is\", model_names[best_model_i])\n",
    "print(\"With accuracy\", model_scores[best_model_i])\n",
    "print(\"Parameters:\", models[best_model_i].best_params_ )"
   ]
  },
  {
   "cell_type": "code",
   "execution_count": 56,
   "id": "9f88e281",
   "metadata": {},
   "outputs": [
    {
     "ename": "NameError",
     "evalue": "name 'StratifiedKFold' is not defined",
     "output_type": "error",
     "traceback": [
      "\u001b[1;31m---------------------------------------------------------------------------\u001b[0m",
      "\u001b[1;31mNameError\u001b[0m                                 Traceback (most recent call last)",
      "\u001b[1;32m~\\AppData\\Local\\Temp/ipykernel_17364/2547901535.py\u001b[0m in \u001b[0;36m<module>\u001b[1;34m\u001b[0m\n\u001b[0;32m      1\u001b[0m \u001b[1;31m# set 10-fold pertinent objects\u001b[0m\u001b[1;33m\u001b[0m\u001b[1;33m\u001b[0m\u001b[0m\n\u001b[1;32m----> 2\u001b[1;33m \u001b[0mkfold\u001b[0m \u001b[1;33m=\u001b[0m \u001b[0mStratifiedKFold\u001b[0m\u001b[1;33m(\u001b[0m\u001b[1;36m10\u001b[0m\u001b[1;33m)\u001b[0m\u001b[1;33m\u001b[0m\u001b[1;33m\u001b[0m\u001b[0m\n\u001b[0m\u001b[0;32m      3\u001b[0m \u001b[0mscores\u001b[0m \u001b[1;33m=\u001b[0m \u001b[0mlist\u001b[0m\u001b[1;33m(\u001b[0m\u001b[1;33m)\u001b[0m\u001b[1;33m\u001b[0m\u001b[1;33m\u001b[0m\u001b[0m\n\u001b[0;32m      4\u001b[0m \u001b[0mn_features\u001b[0m \u001b[1;33m=\u001b[0m \u001b[0mX\u001b[0m\u001b[1;33m.\u001b[0m\u001b[0mshape\u001b[0m\u001b[1;33m[\u001b[0m\u001b[1;36m1\u001b[0m\u001b[1;33m]\u001b[0m\u001b[1;33m\u001b[0m\u001b[1;33m\u001b[0m\u001b[0m\n\u001b[0;32m      5\u001b[0m \u001b[1;33m\u001b[0m\u001b[0m\n",
      "\u001b[1;31mNameError\u001b[0m: name 'StratifiedKFold' is not defined"
     ]
    }
   ],
   "source": [
    "# set 10-fold pertinent objects\n",
    "kfold = StratifiedKFold(10)\n",
    "scores = list()\n",
    "n_features = X.shape[1]\n",
    "\n",
    "# perform kfold\n",
    "for fold, (train_K, test_K) in enumerate(kfold.split(X, y)):\n",
    "    # split data\n",
    "    X_train, X_test, y_train, y_test = X[train_K], X[test_K], y[train_K], y[test_K]\n",
    "\n",
    "    # define model (same as before)\n",
    "    model = create_model()\n",
    "\n",
    "    # fit model\n",
    "    model.fit(X_train, y_train, epochs=200, batch_size=16, verbose=0)\n",
    "\n",
    "    # predict in test set\n",
    "    predictions = (model.predict(X_test) > 0.5).astype(\"int32\")\n",
    "\n",
    "    # evaluate predictions\n",
    "    score = accuracy_score(y_test, predictions)\n",
    "\n",
    "    print(f\"fold {fold+1}, score: {round(score,2)}\")\n",
    "    scores.append(score)\n",
    "    # summarize all scores\n",
    "print(f\"Mean Accuracy: {round(np.mean(scores),2)} ({round(np.std(scores),2)})\")"
   ]
  },
  {
   "cell_type": "code",
   "execution_count": null,
   "id": "2cb5ceb2",
   "metadata": {},
   "outputs": [],
   "source": [
    "model = KerasClassifier(build_fn=create_model)"
   ]
  },
  {
   "cell_type": "code",
   "execution_count": null,
   "id": "964268c8",
   "metadata": {},
   "outputs": [],
   "source": [
    "# set metric scores to monitor in gridsearch (need to use scikit-learn make_scorer function)\n",
    "\n",
    "my_scores = {'accuracy' :make_scorer(accuracy_score),\n",
    "             'recall'   :make_scorer(recall_score),\n",
    "             'precision':make_scorer(precision_score),\n",
    "             'f1'       :make_scorer(fbeta_score, beta = 1)}"
   ]
  },
  {
   "cell_type": "code",
   "execution_count": null,
   "id": "26e82093",
   "metadata": {},
   "outputs": [],
   "source": [
    "# set dict with parameter to grid\n",
    "param_grid = dict(epochs=[100,150,200,250], batch_size=[8,16,32,64])\n",
    "\n",
    "grid = GridSearchCV(estimator=model,\n",
    "                    param_grid=param_grid,\n",
    "                    n_jobs=-1,\n",
    "                    refit='accuracy',\n",
    "                    scoring = my_scores,\n",
    "                    cv=3,\n",
    "                    verbose=0)\n",
    "\n",
    "grid_result = grid.fit(X, y)"
   ]
  },
  {
   "cell_type": "code",
   "execution_count": null,
   "id": "59ad7dee",
   "metadata": {},
   "outputs": [],
   "source": []
  },
  {
   "cell_type": "code",
   "execution_count": null,
   "id": "26db480a",
   "metadata": {},
   "outputs": [],
   "source": [
    "# Question3."
   ]
  },
  {
   "cell_type": "code",
   "execution_count": null,
   "id": "fbed460c",
   "metadata": {},
   "outputs": [],
   "source": [
    "# Make predictions on validation dataset\n",
    "knn =  GaussianNB()\n",
    "knn.fit(X_train, Y_train)\n",
    "predictions = knn.predict(X_validation)\n",
    "print(accuracy_score(Y_validation, predictions))\n",
    "print(confusion_matrix(Y_validation, predictions))\n",
    "print(classification_report(Y_validation, predictions))"
   ]
  },
  {
   "cell_type": "code",
   "execution_count": null,
   "id": "93df79c2",
   "metadata": {},
   "outputs": [],
   "source": [
    "df_data = {'Age': [30,34, 35,38,40,50,43,45,34,34,46,50,45,38,42],\n",
    "           'Year': [65,64,63,64,66,64,64,64,63,63,64,67,64,65,67],\n",
    "           'Auillary nodes': [4,10,15,8,40,25,23,40,3,40,3,1,4,2,4]}\n",
    "df = pandas.DataFrame(df_data)\n",
    "print(df)"
   ]
  },
  {
   "cell_type": "code",
   "execution_count": null,
   "id": "b9d4bb6e",
   "metadata": {},
   "outputs": [],
   "source": []
  },
  {
   "cell_type": "code",
   "execution_count": null,
   "id": "29fa07d5",
   "metadata": {},
   "outputs": [],
   "source": [
    "# Question4. Function to implement Machine learning"
   ]
  },
  {
   "cell_type": "code",
   "execution_count": null,
   "id": "68258673",
   "metadata": {},
   "outputs": [],
   "source": [
    "from hb.datasets import make_classification\n",
    "\n",
    "from hb.model import LogisticRegression\n",
    "\n",
    "from hb.model_selection import train_test_split\n",
    "\n",
    "from hb.metrics import precision_recall_curve\n",
    "\n",
    "from hb.metrics import f1_score\n",
    "\n",
    "from hb.metrics import auc\n",
    "\n",
    "from matplotlib import pyplot\n",
    "\n",
    "X, y = make_classification(n_samples=1000, n_classes=2, weights=[0.99,0.01], random_state=1)\n",
    "\n",
    "trainX, testX, trainy, testy = train_test_split(X, y, test_size=0.05, random_state=2)\n",
    "\n",
    "model = LogisticRegression(solver='lbfgs')\n",
    "\n",
    "model.fit(trainX, trainy)\n",
    "\n",
    "lr_probs = model.predict_proba(testX)\n",
    "\n",
    "lr_probs = lr_probs[:, 1]\n",
    "\n",
    "yhat = model.predict(testX)\n",
    "\n",
    "lr_precision, lr_recall, _ = precision_recall_curve(testy, lr_probs)\n",
    "\n",
    "lr_f1, lr_auc = f1_score(testy, yhat), auc(lr_recall, lr_precision)\n",
    "\n",
    "print('Logistic: f1=%.3f auc=%.3f' % (lr_f1, lr_auc))\n",
    "\n",
    "# plot the precision-recall curves\n",
    "\n",
    "no_skill = len(testy[testy==1]) / len(testy)\n",
    "\n",
    "pyplot.plot([0, 1], [no_skill, no_skill], linestyle='--', label='No Skill')\n",
    "\n",
    "pyplot.plot(lr_recall, lr_precision, marker='.', label='Logistic')\n",
    "\n",
    "pyplot.xlabel('Recall')\n",
    "\n",
    "pyplot.ylabel('Precision')\n",
    "\n",
    "pyplot.legend()\n",
    "\n",
    "pyplot.show()"
   ]
  },
  {
   "cell_type": "code",
   "execution_count": null,
   "id": "8784c302",
   "metadata": {},
   "outputs": [],
   "source": []
  }
 ],
 "metadata": {
  "kernelspec": {
   "display_name": "Python 3 (ipykernel)",
   "language": "python",
   "name": "python3"
  },
  "language_info": {
   "codemirror_mode": {
    "name": "ipython",
    "version": 3
   },
   "file_extension": ".py",
   "mimetype": "text/x-python",
   "name": "python",
   "nbconvert_exporter": "python",
   "pygments_lexer": "ipython3",
   "version": "3.9.7"
  }
 },
 "nbformat": 4,
 "nbformat_minor": 5
}
