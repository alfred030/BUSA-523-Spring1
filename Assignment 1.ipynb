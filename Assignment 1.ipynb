{
 "cells": [
  {
   "cell_type": "markdown",
   "id": "c3843a4c",
   "metadata": {},
   "source": [
    "# Assignment1"
   ]
  },
  {
   "cell_type": "code",
   "execution_count": 1,
   "id": "ebbdeb4e",
   "metadata": {},
   "outputs": [
    {
     "name": "stdout",
     "output_type": "stream",
     "text": [
      "You will get 5 attempt to guess the number between 1 and 20.\n",
      "Attempt  1: 11\n",
      "Attempt  2: 17\n",
      "Attempt  3: 6\n",
      "Attempt  4: 18\n",
      "Attempt  5: 4\n",
      "You lose\n"
     ]
    }
   ],
   "source": [
    "# question 1 random\n",
    "\n",
    "import random\n",
    "\n",
    "number = random.randint(1, 20)\n",
    "guessed = 0\n",
    "print(\"You will get 5 attempt to guess the number between 1 and 20.\")\n",
    "while True:\n",
    "    guessed += 1\n",
    "    print(\"Attempt \", guessed, end=\": \")\n",
    "    guess = int(input())\n",
    "    if guess == number:\n",
    "        print(\"You win\")\n",
    "        break\n",
    "    if guessed == 5:\n",
    "        print(\"You lose\")\n",
    "        break"
   ]
  },
  {
   "cell_type": "code",
   "execution_count": 2,
   "id": "0c7c5a73",
   "metadata": {},
   "outputs": [
    {
     "name": "stdout",
     "output_type": "stream",
     "text": [
      "Hello! What is your name?\n",
      "Steve\n",
      "Well, Steve, I am thinking of a number between 1 and 20.\n",
      "Take a guess.\n",
      "8\n",
      "Your guess is too low.\n",
      "Take a guess.\n",
      "17\n",
      "Your guess is too high.\n",
      "Take a guess.\n",
      "13\n",
      "Your guess is too high.\n",
      "Take a guess.\n",
      "19\n",
      "Your guess is too high.\n",
      "Take a guess.\n",
      "12\n",
      "Your guess is too high.\n",
      "Take a guess.\n",
      "16\n",
      "Your guess is too high.\n",
      "Nope. The number I was thinking of was 10\n"
     ]
    }
   ],
   "source": [
    "# question 2\n",
    "\n",
    "# This is a guess the number game.\n",
    "\n",
    "\n",
    "import random\n",
    "\n",
    "guessesTaken = 0\n",
    "\n",
    "print('Hello! What is your name?')\n",
    "myName = input()\n",
    "\n",
    "number = random.randint(1, 20)\n",
    "print('Well, ' + myName + ', I am thinking of a number between 1 and 20.')\n",
    "\n",
    "while guessesTaken < 6:\n",
    "    print('Take a guess.') \n",
    "    guess = input()\n",
    "    guess = int(guess)\n",
    "\n",
    "    guessesTaken = guessesTaken + 1\n",
    "\n",
    "    if guess < number:\n",
    "        print('Your guess is too low.') \n",
    "\n",
    "    if guess > number:\n",
    "        print('Your guess is too high.')\n",
    "\n",
    "    if guess == number:\n",
    "        break\n",
    "\n",
    "if guess == number:\n",
    "    guessesTaken = str(guessesTaken)\n",
    "    print('Good job, ' + myName + '! You guessed my number in ' + guessesTaken + ' guesses!')\n",
    "\n",
    "if guess != number:\n",
    "    number = str(number)\n",
    "    print('Nope. The number I was thinking of was ' + number)"
   ]
  },
  {
   "cell_type": "code",
   "execution_count": 3,
   "id": "a3a9caad",
   "metadata": {},
   "outputs": [
    {
     "name": "stdout",
     "output_type": "stream",
     "text": [
      "Select \n",
      " 1. Rock \n",
      " 2. Paper \n",
      " 3. Scissors \n",
      " 4. Lizard \n",
      " 5. Spock\n",
      "Enter your choice: 5\n",
      "Your Choice:  5\n",
      "Computer's Choice:  1\n",
      "You Won\n"
     ]
    }
   ],
   "source": [
    "# question3 Rock-Paper-Scissors-Lizard-Spock\n",
    "\n",
    "import random\n",
    "\n",
    "print(\"Select \\n 1. Rock \\n 2. Paper \\n 3. Scissors \\n 4. Lizard \\n 5. Spock\")\n",
    "user_Pick = int(input(\"Enter your choice: \"))\n",
    "while user_Pick > 5 or user_Pick < 1:\n",
    "    user_Pick = int(input(\"Re-Enter your choice: \"))\n",
    "computer_Pick = random.randint(1, 5)\n",
    "\n",
    "print(\"Your Choice: \", user_Pick)\n",
    "print(\"Computer's Choice: \", computer_Pick)\n",
    "\n",
    "if user_Pick == computer_Pick:\n",
    "    print(\"Draw\")\n",
    "elif user_Pick == 1 and (computer_Pick == 2 or computer_Pick == 5):\n",
    "    print(\"Computer Won\")\n",
    "elif user_Pick == 1 and (computer_Pick == 3 or computer_Pick == 4):\n",
    "    print(\"You Won\")\n",
    "elif user_Pick == 2 and (computer_Pick == 3 or computer_Pick == 4):\n",
    "    print(\"Computer Won\")\n",
    "elif user_Pick == 2 and (computer_Pick == 1 or computer_Pick == 5):\n",
    "    print(\"You Won\")\n",
    "elif user_Pick == 3 and (computer_Pick == 1 or computer_Pick == 5):\n",
    "    print(\"Computer Won\")\n",
    "elif user_Pick == 3 and (computer_Pick == 2 or computer_Pick == 4):\n",
    "    print(\"You Won\")\n",
    "elif user_Pick == 4 and (computer_Pick == 1 or computer_Pick == 3):\n",
    "    print(\"Computer Won\")\n",
    "elif user_Pick == 4 and (computer_Pick == 2 or computer_Pick == 5):\n",
    "    print(\"You Won\")\n",
    "elif user_Pick == 5 and (computer_Pick == 2 or computer_Pick == 4):\n",
    "    print(\"Computer Won\")\n",
    "else:\n",
    "    print(\"You Won\")"
   ]
  },
  {
   "cell_type": "code",
   "execution_count": null,
   "id": "fff89641",
   "metadata": {},
   "outputs": [],
   "source": []
  }
 ],
 "metadata": {
  "kernelspec": {
   "display_name": "Python 3 (ipykernel)",
   "language": "python",
   "name": "python3"
  },
  "language_info": {
   "codemirror_mode": {
    "name": "ipython",
    "version": 3
   },
   "file_extension": ".py",
   "mimetype": "text/x-python",
   "name": "python",
   "nbconvert_exporter": "python",
   "pygments_lexer": "ipython3",
   "version": "3.9.7"
  }
 },
 "nbformat": 4,
 "nbformat_minor": 5
}
