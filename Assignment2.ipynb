{
 "cells": [
  {
   "cell_type": "markdown",
   "id": "54ea220c",
   "metadata": {},
   "source": [
    "# Assignment 2"
   ]
  },
  {
   "cell_type": "code",
   "execution_count": 1,
   "id": "1c7156bd",
   "metadata": {},
   "outputs": [
    {
     "name": "stdout",
     "output_type": "stream",
     "text": [
      "310\n"
     ]
    }
   ],
   "source": [
    "# Q1\n",
    "\n",
    "import random\n",
    "\n",
    "choices = ['heads','tails']\n",
    "\n",
    "def count_streaks(results):\n",
    "    streaks, current_streak, current_count = 0,results[0],0\n",
    "    \n",
    "    for i in range(len(results)):\n",
    "        \n",
    "        if results[i]==current_streak:\n",
    "            current_count+=1\n",
    "            \n",
    "        else:\n",
    "            if current_count>=5:\n",
    "                streaks+=1\n",
    "            current_streak, current_count = results[i],1 \n",
    "            \n",
    "    return streaks\n",
    "\n",
    "results = random.choices(choices,k=10000)\n",
    "\n",
    "print(count_streaks(results))"
   ]
  },
  {
   "cell_type": "code",
   "execution_count": 2,
   "id": "b52f35e2",
   "metadata": {},
   "outputs": [
    {
     "name": "stdout",
     "output_type": "stream",
     "text": [
      "Enter the number of swords: 5\n",
      "Enter the number of diamonds: 10\n",
      "Enter the number of gold coins: 6\n",
      "Enter the number of rope: 3\n",
      "Enter the number of potions: 2\n",
      "swords 5\n",
      "diamonds 10\n",
      "gold coins 6\n",
      "rope 3\n",
      "potions 2\n"
     ]
    }
   ],
   "source": [
    "# Q2\n",
    "\n",
    "items = ['swords','diamonds','gold coins','rope','potions']\n",
    "inventory = {}\n",
    "\n",
    "for item in items:\n",
    "    inventory[item] = int(input('Enter the number of {}: '.format(item)))\n",
    "\n",
    "for item,cnt in inventory.items():\n",
    "    print(item,cnt)"
   ]
  },
  {
   "cell_type": "code",
   "execution_count": 7,
   "id": "d4f16159",
   "metadata": {},
   "outputs": [
    {
     "name": "stdout",
     "output_type": "stream",
     "text": [
      "12\n",
      "8\n",
      "0\n",
      "['heads', 'tails', 'tails', 'tails', 'tails', 'tails', 'heads', 'tails', 'tails', 'heads', 'tails', 'heads', 'tails', 'heads', 'heads', 'tails', 'heads', 'heads', 'tails', 'tails']\n"
     ]
    }
   ],
   "source": [
    "import random\n",
    "cointoss = []\n",
    "tosses = 20\n",
    "\n",
    "for i in range(tosses):\n",
    "    if random.randint(0, 1) == 0:\n",
    "        cointoss.append('heads')\n",
    "    else:\n",
    "        cointoss.append('tails')\n",
    "        \n",
    "hc = cointoss.count('heads')\n",
    "tc = cointoss.count('tails')\n",
    "\n",
    "heads_count = 0\n",
    "tails_count = 0\n",
    "streak = 0\n",
    "\n",
    "for i in range(len('cointoss')) :\n",
    "    if i == 'heads' :\n",
    "        heads_count += 1\n",
    "        tails_count == 0\n",
    "    if heads_count >= 5 :\n",
    "        streak += 1\n",
    "        \n",
    "    elif i == 'tails' :\n",
    "        tails_count += 1\n",
    "        heads_count == 0\n",
    "        if tails_count >= 5:\n",
    "            streak += 1\n",
    "            \n",
    "print(tc)\n",
    "print(hc)\n",
    "print(streak)\n",
    "print(cointoss)"
   ]
  },
  {
   "cell_type": "code",
   "execution_count": 4,
   "id": "23342f51",
   "metadata": {},
   "outputs": [
    {
     "name": "stdout",
     "output_type": "stream",
     "text": [
      "Winner for the following game is Player 2\n"
     ]
    }
   ],
   "source": [
    "# Q4\n",
    "\n",
    "import random\n",
    "\n",
    "num_iterations, num_players = 10,3\n",
    "scores = [0]*num_players \n",
    "\n",
    "for i in range(num_iterations):\n",
    "    \n",
    "    for player in range(num_players):\n",
    "        scores[player] += random.randint(1,6) \n",
    "\n",
    "winner = max(enumerate(scores), key=lambda scores:scores[1])[0] + 1 #adding 1 because indexing starts from 0\n",
    "print('Winner for the following game is Player {}'.format(winner))"
   ]
  },
  {
   "cell_type": "code",
   "execution_count": null,
   "id": "341f3da0",
   "metadata": {},
   "outputs": [],
   "source": []
  }
 ],
 "metadata": {
  "kernelspec": {
   "display_name": "Python 3 (ipykernel)",
   "language": "python",
   "name": "python3"
  },
  "language_info": {
   "codemirror_mode": {
    "name": "ipython",
    "version": 3
   },
   "file_extension": ".py",
   "mimetype": "text/x-python",
   "name": "python",
   "nbconvert_exporter": "python",
   "pygments_lexer": "ipython3",
   "version": "3.9.7"
  }
 },
 "nbformat": 4,
 "nbformat_minor": 5
}
